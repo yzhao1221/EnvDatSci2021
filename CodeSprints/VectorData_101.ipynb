{
 "cells": [
  {
   "cell_type": "markdown",
   "metadata": {},
   "source": [
    "This notebook will take you through Lesson 3 in Introductory Earth Data Science: https://www.earthdatascience.org/courses/intro-to-earth-data-science/file-formats/use-spatial-data/use-vector-data/\n",
    "\n",
    "## Import Shapefile Data Into Python Using Geopandas\n",
    "You will use the geopandas library to work with vector data in Python. Geopandas is built on top of the Python Pandas library. It stores spatial data in a tabular, dataframe format.\n"
   ]
  },
  {
   "cell_type": "code",
   "execution_count": null,
   "metadata": {},
   "outputs": [],
   "source": [
    "# Import packages\n",
    "import os\n",
    "import matplotlib.pyplot as plt\n",
    "import geopandas as gpd\n",
    "import earthpy as et"
   ]
  },
  {
   "cell_type": "markdown",
   "metadata": {},
   "source": [
    "To begin, set your working directory to earth-analytics and then download a single shapefile. \n",
    "\n",
    "You will start with working with the Natural Earth country boundary lines layer: https://www.naturalearthdata.com/downloads/\n",
    "\n",
    "Note that below you are using EarthPy to download a dataset from naturalearthdata.com (via Amazon Web Services). \n",
    "\n",
    "EarthPy automatically creates the earth-analytics directory for you when you use it, but by default makes this directory in your home directory. We're doing this here because you guys are on PCs.\n",
    "\n",
    "You set the working directory after you download the data as a precaution to ensure that the earth-analytics directory already exists on your computer. This is not a standard order of operations, as we are not using our SU H drive, but we are demonstrating it here to ensure the notebook runs on all computers!"
   ]
  },
  {
   "cell_type": "code",
   "execution_count": null,
   "metadata": {},
   "outputs": [],
   "source": [
    "# Download a political boundaries shapefile and set your working directory\n",
    "et.data.get_data(\n",
    "    url='https://naturalearth.s3.amazonaws.com/50m_cultural/ne_50m_admin_0_boundary_lines_land.zip')\n",
    "\n",
    "# Set working directory - earthpy creates earth-analytics for you in your home dir\n",
    "os.chdir(os.path.join(et.io.HOME, 'earth-analytics'))"
   ]
  },
  {
   "cell_type": "markdown",
   "metadata": {},
   "source": [
    "### geopandas\n",
    "Next, you open the data using geopandas. \n",
    "\n",
    "***geopandas*** takes all of the data science magic from the pandas library and makes it compatible with shapfiles.\n",
    "\n",
    "Learn more here: https://geopandas.org/\n",
    "\n",
    "You can view the first 5 rows of the data using .head() in the same way you used .head() for Pandas dataframes.¶"
   ]
  },
  {
   "cell_type": "code",
   "execution_count": null,
   "metadata": {},
   "outputs": [],
   "source": [
    "os.getcwd()"
   ]
  },
  {
   "cell_type": "markdown",
   "metadata": {},
   "source": [
    "We're going to download a second dataset, called coastlines:"
   ]
  },
  {
   "cell_type": "code",
   "execution_count": null,
   "metadata": {},
   "outputs": [],
   "source": [
    "#set URL for the dataset\n",
    "coastlines_url = \"https://naturalearth.s3.amazonaws.com/50m_physical/ne_50m_coastline.zip\"\n",
    "\n",
    "#download the URL into your earth-analytics folder\n",
    "et.data.get_data(url=coastlines_url)\n",
    "\n",
    "#name the filepath relative to your working directory: note this is operating system agnostic\n",
    "coastlines_path = os.path.join(\"data\", \"earthpy-downloads\",\n",
    "                               \"ne_50m_coastline\",\n",
    "                               \"ne_50m_coastline.shp\")\n",
    "\n",
    "#use geopandas as gpd to \"read_file\"\n",
    "coastlines = gpd.read_file(coastlines_path)\n",
    "\n",
    "#prints \"head\" just like pandas!\n",
    "coastlines.head()"
   ]
  },
  {
   "cell_type": "markdown",
   "metadata": {},
   "source": [
    "### See? GeoPandas Creates GeoDataFrames Which Have the Same Structure As Pandas DataFrames\n",
    "The structure of a Geopandas GeoDataFrame is very similar to a Pandas dataframe.\n",
    "\n",
    "### A few differences include:\n",
    "The GeoDataFrame contains a geometry column which stores spatial information. The geometry column in your GeoDataFrame stores the boundary information (the lines that make up each shape in your data). This allows you to plot points, lines or polygons.\n",
    "\n",
    "The GeoDataFrame stores spatial attributes such as coordinate reference systems and spatial extents.\n",
    "\n",
    "Similar to Pandas, you can plot the data using .plot()"
   ]
  },
  {
   "cell_type": "code",
   "execution_count": null,
   "metadata": {},
   "outputs": [],
   "source": [
    "# Plot the data\n",
    "f, ax1 = plt.subplots(figsize=(12, 6))\n",
    "coastlines.plot(ax=ax1)\n",
    "\n",
    "# Add a title to your plot\n",
    "ax1.set(title=\"Global Coastline Boundaries\")\n",
    "plt.show()"
   ]
  },
  {
   "cell_type": "markdown",
   "metadata": {},
   "source": [
    "### Check the Spatial Vector Data Type\n",
    "You can look at the data to figure out what type of data are stored in the shapefile (points, line or polygons). However, you can also get that information by calling .geom_type"
   ]
  },
  {
   "cell_type": "code",
   "execution_count": null,
   "metadata": {},
   "outputs": [],
   "source": [
    "# Is the geometry type point, line or polygon?\n",
    "coastlines.geom_type"
   ]
  },
  {
   "cell_type": "markdown",
   "metadata": {},
   "source": [
    "Also similar to Pandas, you can view descriptive information about the GeoDataFrame using .info(). This includes the number of columns, rows and the header name and type of each column.¶"
   ]
  },
  {
   "cell_type": "code",
   "execution_count": null,
   "metadata": {},
   "outputs": [],
   "source": [
    "coastlines.info()"
   ]
  },
  {
   "cell_type": "markdown",
   "metadata": {},
   "source": [
    "### Open Vector Point Data\n",
    "Next, you will open up another shapefile using Geopandas."
   ]
  },
  {
   "cell_type": "code",
   "execution_count": null,
   "metadata": {},
   "outputs": [],
   "source": [
    "# Open a second layer\n",
    "et.data.get_data(\n",
    "    url='https://naturalearth.s3.amazonaws.com/50m_cultural/ne_50m_populated_places_simple.zip')\n",
    "\n",
    "# Create a path to the populated places shapefile\n",
    "populated_places_path = os.path.join(\"data\", \"earthpy-downloads\",\n",
    "                                     \"ne_50m_populated_places_simple\",\n",
    "                                     \"ne_50m_populated_places_simple.shp\")\n",
    "\n",
    "#read in a new geopandas data frame called \"cities\"\n",
    "cities = gpd.read_file(populated_places_path)"
   ]
  },
  {
   "cell_type": "markdown",
   "metadata": {},
   "source": [
    "### TASK 1: Is Cities a point, line, or polygon file? Type a command to find out and interpret the answer."
   ]
  },
  {
   "cell_type": "code",
   "execution_count": null,
   "metadata": {},
   "outputs": [],
   "source": [
    "# Task 1 answer here"
   ]
  },
  {
   "cell_type": "markdown",
   "metadata": {},
   "source": [
    "The attributes for a shapefile imported into a GeoDataFrame can be viewed in the GeoDataFrame itself."
   ]
  },
  {
   "cell_type": "code",
   "execution_count": null,
   "metadata": {},
   "outputs": [],
   "source": [
    "# View first 5 rows of GeoDataFrame\n",
    "cities.head()\n",
    "\n",
    "\n",
    "# Experiment! How would you view the first 10 rows of a GeoDataFrame?"
   ]
  },
  {
   "cell_type": "markdown",
   "metadata": {},
   "source": [
    "Just like with Pandas DataFrames, standard arguments can be used to calculate summary statistics on your GeoPandas object:"
   ]
  },
  {
   "cell_type": "code",
   "execution_count": null,
   "metadata": {},
   "outputs": [],
   "source": [
    "#Let's see what our most populous city is\n",
    "print(cities.pop_max)\n",
    "\n",
    "print(\"The largest city has \" + \n",
    "      str(cities.pop_max.max()) \n",
    "      + \" people!\")"
   ]
  },
  {
   "cell_type": "markdown",
   "metadata": {},
   "source": [
    "### Creating Maps Using Multiple Shapefiles\n",
    "You can create maps using multiple shapefiles with Geopandas in a similar way that you may do so using a graphical user interface (GUI) tool like ArcGIS or QGIS (open source alternative to ArcGIS). To do this you will need to open a second spatial file. Below you will use the Natural Earth populated places shapefile to add additional layers to your map.\n",
    "\n",
    "To plot two datasets together, you will first create a Matplotlib figure object. Notice in the example below that you define the figure ax1 in the first line. You then tell GeoPandas to plot the data on that particular figure using the parameter ax=\n",
    "\n",
    "The code looks like this:"
   ]
  },
  {
   "cell_type": "code",
   "execution_count": null,
   "metadata": {},
   "outputs": [],
   "source": [
    "#Experiment! \n",
    "#What happens if you change FigSize numbers? \n",
    "#What happens if you \"comment out\" (put a # in front of) plt.show()? \n",
    "#What happens if you change the color?\n",
    "\n",
    "f, ax1 = plt.subplots(figsize=(10, 6))\n",
    "coastlines.plot(ax=ax1,\n",
    "               color = \"black\")\n",
    "plt.show()"
   ]
  },
  {
   "cell_type": "markdown",
   "metadata": {},
   "source": [
    "To add another layer to your map, you can add a second .plot() call and specify the ax= to be ax1 again. This tells Python to layer the two datasets in the same figure."
   ]
  },
  {
   "cell_type": "code",
   "execution_count": null,
   "metadata": {},
   "outputs": [],
   "source": [
    "# Create a map or plot with two data layers\n",
    "\n",
    "#Experiment! What happens if you remove ax=ax1 from coastlines.plot() and cities.plot()?\n",
    "\n",
    "f, ax1 = plt.subplots(figsize=(10, 6))\n",
    "coastlines.plot(ax=ax1,\n",
    "                color=\"black\")\n",
    "cities.plot(ax=ax1)\n",
    "\n",
    "# Add a title\n",
    "ax1.set(title=\"Map of Cities and Global Lines\")\n",
    "plt.show()"
   ]
  },
  {
   "cell_type": "markdown",
   "metadata": {},
   "source": [
    "Learn more about custom plotting in Python:\n",
    "\n",
    "https://www.earthdatascience.org/courses/scientists-guide-to-plotting-data-in-python/plot-spatial-data/customize-vector-plots/python-customize-map-legends-geopandas/\n",
    "\n",
    "https://geopandas.org/gallery/plotting_with_geoplot.html"
   ]
  },
  {
   "cell_type": "markdown",
   "metadata": {},
   "source": [
    "### TASK 2\n",
    "Using the resources above, create a map that contains:\n",
    "1. Coastal lines (black)\n",
    "2. Cities (points), with a color scale for pop_max\n",
    "3. A legend"
   ]
  },
  {
   "cell_type": "code",
   "execution_count": null,
   "metadata": {},
   "outputs": [],
   "source": [
    "# Format and plot your results from task 2\n",
    "f, ax1 = plt.subplots(figsize=(10, 6))\n",
    "coastlines.plot(ax=ax1,\n",
    "                #Modify arguments here!\n",
    "               )\n",
    "cities.plot(ax=ax1,\n",
    "            #Modify arguments here!\n",
    "           )\n",
    "           \n",
    "\n",
    "# Add a title\n",
    "ax1.set(title=\"Map of Cities Populations and Global Lines\")\n",
    "plt.show()\n"
   ]
  },
  {
   "cell_type": "markdown",
   "metadata": {},
   "source": [
    "### Geoprocessing Vector Data Geoprocessing in Python: Clip Data\n",
    "Sometimes you have spatial data for a larger area than you need to process. For example you may be working on a project for your state or country. But perhaps you have data for the entire globe.\n",
    "\n",
    "You can clip the data spatially to another boundary to make it smaller. Once the data are clipped, your processing operations will be faster. It will also make creating maps of your study area easier and cleaner.\n",
    "\n",
    "In this workflow, you'll subset your cities data to only look at counties in the United States. First, we'll import a dataset of global political boundaries."
   ]
  },
  {
   "cell_type": "code",
   "execution_count": null,
   "metadata": {},
   "outputs": [],
   "source": [
    "country_data_url = \"https://naturalearth.s3.amazonaws.com/50m_cultural/ne_50m_admin_0_countries.zip\"\n",
    "et.data.get_data(url=country_data_url)\n",
    "\n",
    "# Create a path to the countries shapefile\n",
    "countries_path = os.path.join(\"data\", \"earthpy-downloads\",\n",
    "                              \"ne_50m_admin_0_countries\", \n",
    "                              \"ne_50m_admin_0_countries.shp\")\n",
    "\n",
    "# Read in the countries shapefile as GeoPandas dataframe\n",
    "countries = gpd.read_file(countries_path)\n",
    "\n",
    "# View attribute table:\n",
    "countries.head()"
   ]
  },
  {
   "cell_type": "markdown",
   "metadata": {},
   "source": [
    "### Next, we'll use built-in pandas funcitonality to subset the shapefile to just the US boundary"
   ]
  },
  {
   "cell_type": "code",
   "execution_count": null,
   "metadata": {},
   "outputs": [],
   "source": [
    "# Subset the countries data to just a single country\n",
    "united_states_boundary = countries.loc[countries['SOVEREIGNT']\n",
    "                                       == 'United States of America']\n",
    "\n",
    "# Notice in the plot below, that only the boundary for the USA is in the new variable\n",
    "f, ax = plt.subplots(figsize=(10, 6))\n",
    "united_states_boundary.plot(ax=ax)\n",
    "plt.show()"
   ]
  },
  {
   "cell_type": "markdown",
   "metadata": {},
   "source": [
    "### Now, we'll subset the cities layer to include only records which overlap in space with the united_states_boundary layer (aka are in the United States)"
   ]
  },
  {
   "cell_type": "code",
   "execution_count": null,
   "metadata": {},
   "outputs": [],
   "source": [
    "# Clip the cities data to the USA boundary\n",
    "# Note -- this operation may take some time to run - be patient\n",
    "cities_in_usa = gpd.clip(cities, united_states_boundary)\n",
    "\n",
    "# Plot your final clipped data\n",
    "f, ax = plt.subplots()\n",
    "cities_in_usa.plot(ax=ax)\n",
    "ax.set(title=\"Cities clipped to the USA Boundary\")\n",
    "plt.show()"
   ]
  },
  {
   "cell_type": "markdown",
   "metadata": {},
   "source": [
    "### TASK 3: What is the largest city in the United States? What is the population of that city?\n",
    "*Hint: check the colutions to the extra credit from Python101"
   ]
  },
  {
   "cell_type": "code",
   "execution_count": null,
   "metadata": {},
   "outputs": [],
   "source": [
    "#Task 3 code here"
   ]
  }
 ],
 "metadata": {
  "kernelspec": {
   "display_name": "Python 3",
   "language": "python",
   "name": "python3"
  },
  "language_info": {
   "codemirror_mode": {
    "name": "ipython",
    "version": 3
   },
   "file_extension": ".py",
   "mimetype": "text/x-python",
   "name": "python",
   "nbconvert_exporter": "python",
   "pygments_lexer": "ipython3",
   "version": "3.8.5"
  }
 },
 "nbformat": 4,
 "nbformat_minor": 4
}
